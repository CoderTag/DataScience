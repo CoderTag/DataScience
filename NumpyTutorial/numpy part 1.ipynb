{
 "cells": [
  {
   "cell_type": "code",
   "execution_count": 13,
   "metadata": {},
   "outputs": [],
   "source": [
    "import numpy as np\n",
    "import sys"
   ]
  },
  {
   "cell_type": "code",
   "execution_count": 51,
   "metadata": {},
   "outputs": [
    {
     "name": "stdout",
     "output_type": "stream",
     "text": [
      "<class 'numpy.ndarray'>\n"
     ]
    },
    {
     "data": {
      "text/plain": [
       "array([ 4, 10, 12])"
      ]
     },
     "execution_count": 51,
     "metadata": {},
     "output_type": "execute_result"
    }
   ],
   "source": [
    "var1 = np.array([1,2,4])\n",
    "var2 = np.array([4,5,3])\n",
    "var3 = np.array([[1,2,4,5,6,343,23,32],[4,3,53,23,242,2646,756,956]])\n",
    "\n",
    "print(type(var1))\n",
    "\n",
    "var1 * var2 "
   ]
  },
  {
   "cell_type": "code",
   "execution_count": 42,
   "metadata": {},
   "outputs": [
    {
     "name": "stdout",
     "output_type": "stream",
     "text": [
      "1 --- 2\n",
      "(3,) --- (2, 8)\n"
     ]
    },
    {
     "data": {
      "text/plain": [
       "dtype('int64')"
      ]
     },
     "execution_count": 42,
     "metadata": {},
     "output_type": "execute_result"
    }
   ],
   "source": [
    "#Get Dimension e.g 1D, 2D, 3D\n",
    "print(var1.ndim,\"---\",var3.ndim)\n",
    "\n",
    "#Get Shape\n",
    "print(var1.shape,\"---\",var3.shape)\n",
    "\n",
    "# Get Type (data type)\n",
    "var1.dtype"
   ]
  },
  {
   "cell_type": "code",
   "execution_count": 52,
   "metadata": {},
   "outputs": [
    {
     "name": "stdout",
     "output_type": "stream",
     "text": [
      "8\n",
      "24\n"
     ]
    }
   ],
   "source": [
    "#Get Size in bytes\n",
    "print(var1.itemsize)\n",
    "\n",
    "#Get Total Size in bytes\n",
    "print(var1.nbytes)"
   ]
  },
  {
   "cell_type": "code",
   "execution_count": 50,
   "metadata": {},
   "outputs": [
    {
     "name": "stdout",
     "output_type": "stream",
     "text": [
      "[[   1    2    4    5    6  343   23   32]\n",
      " [   4    3   53   23  242 2646  756  956]]\n",
      "756\n",
      "[  1   2   4   5   6 343  23  32]\n",
      "[ 4 53]\n",
      "[ 1  4  6 23]\n"
     ]
    }
   ],
   "source": [
    "# Get Specific item [r,c]\n",
    "print(var3)\n",
    "print(var3[1,6])\n",
    "\n",
    "#Get specific row\n",
    "print(var3[0,:])\n",
    "\n",
    "#Get specific column\n",
    "print(var3[:,2])\n",
    "\n",
    "# Startindex:Endindex:Stepsize\n",
    "print(var3[0,0:7:2])"
   ]
  },
  {
   "attachments": {},
   "cell_type": "markdown",
   "metadata": {},
   "source": [
    "## 3D Example"
   ]
  },
  {
   "cell_type": "code",
   "execution_count": 65,
   "metadata": {},
   "outputs": [
    {
     "name": "stdout",
     "output_type": "stream",
     "text": [
      "[[[1 2]\n",
      "  [3 4]]\n",
      "\n",
      " [[5 6]\n",
      "  [7 8]]]\n",
      "1\n"
     ]
    }
   ],
   "source": [
    "var3d = np.array([[[1,2],[3,4]],[[5,6],[7,8]]])\n",
    "print(var3d)\n",
    "\n",
    "#Get Specific element\n",
    "print(var3d[0,0,0])"
   ]
  }
 ],
 "metadata": {
  "kernelspec": {
   "display_name": "pandasproj",
   "language": "python",
   "name": "pandasproj"
  },
  "language_info": {
   "codemirror_mode": {
    "name": "ipython",
    "version": 3
   },
   "file_extension": ".py",
   "mimetype": "text/x-python",
   "name": "python",
   "nbconvert_exporter": "python",
   "pygments_lexer": "ipython3",
   "version": "3.12.1"
  },
  "orig_nbformat": 4
 },
 "nbformat": 4,
 "nbformat_minor": 2
}
