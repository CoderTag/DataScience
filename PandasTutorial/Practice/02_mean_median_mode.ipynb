{
 "cells": [
  {
   "attachments": {},
   "cell_type": "markdown",
   "metadata": {},
   "source": [
    "# Mean Median Mode"
   ]
  },
  {
   "cell_type": "code",
   "execution_count": 2,
   "metadata": {},
   "outputs": [],
   "source": [
    "%matplotlib inline\n",
    "import matplotlib.pyplot as plt\n",
    "import pandas as pd\n",
    "import numpy as np"
   ]
  },
  {
   "attachments": {},
   "cell_type": "markdown",
   "metadata": {},
   "source": [
    "### Mean vs Median\n",
    "Let's create some fake income data, centered around 27,000 with a normal distribution and standard deviation of 15,000, with 10,000 data points. (We'll discuss those terms more later, if you're not familiar with them.)\n",
    "\n",
    "Then, compute the mean (average) - it should be close to 27,000:"
   ]
  },
  {
   "cell_type": "code",
   "execution_count": 3,
   "metadata": {},
   "outputs": [
    {
     "data": {
      "text/plain": [
       "27008.91385280397"
      ]
     },
     "execution_count": 3,
     "metadata": {},
     "output_type": "execute_result"
    }
   ],
   "source": [
    "# Let's create some fake income data, centered around 27,000 with a normal distribution and standard deviation of 15,000, with 10,000 data points. \n",
    "# Then, compute the mean (average) - it should be close to 27,000:\n",
    "income = np.random.normal(27000, 15000, 10000)\n",
    "np.mean(income)"
   ]
  },
  {
   "attachments": {},
   "cell_type": "markdown",
   "metadata": {},
   "source": [
    "Segment the income data into 50 buckets, and plot them as histogram"
   ]
  },
  {
   "cell_type": "code",
   "execution_count": 4,
   "metadata": {},
   "outputs": [
    {
     "data": {
      "image/png": "[encoded data removed]",
      "text/plain": [
       "<Figure size 640x480 with 1 Axes>"
      ]
     },
     "metadata": {},
     "output_type": "display_data"
    }
   ],
   "source": [
    "plt.hist(income, 50)\n",
    "plt.show()"
   ]
  },
  {
   "attachments": {},
   "cell_type": "markdown",
   "metadata": {},
   "source": [
    "As we have well dstribited the median should also be close to 27000"
   ]
  },
  {
   "cell_type": "code",
   "execution_count": 5,
   "metadata": {},
   "outputs": [
    {
     "data": {
      "text/plain": [
       "26916.91523401664"
      ]
     },
     "execution_count": 5,
     "metadata": {},
     "output_type": "execute_result"
    }
   ],
   "source": [
    "np.median(income)"
   ]
  },
  {
   "cell_type": "code",
   "execution_count": 6,
   "metadata": {},
   "outputs": [
    {
     "data": {
      "text/plain": [
       "26920.369936160972"
      ]
     },
     "execution_count": 6,
     "metadata": {},
     "output_type": "execute_result"
    }
   ],
   "source": [
    "# add some income to the list as the outlier. The median wont change much, but the mean will be affected.\n",
    "income = np.append(income, [1000000000])\n",
    "np.median(income)"
   ]
  },
  {
   "cell_type": "code",
   "execution_count": 7,
   "metadata": {},
   "outputs": [
    {
     "data": {
      "text/plain": [
       "126996.21423138083"
      ]
     },
     "execution_count": 7,
     "metadata": {},
     "output_type": "execute_result"
    }
   ],
   "source": [
    "np.mean(income)"
   ]
  },
  {
   "attachments": {},
   "cell_type": "markdown",
   "metadata": {},
   "source": [
    "## Mode"
   ]
  },
  {
   "cell_type": "code",
   "execution_count": 8,
   "metadata": {},
   "outputs": [
    {
     "data": {
      "text/plain": [
       "array([30, 26, 66, 22, 86, 78, 46, 57, 43, 76, 18, 55, 36, 72, 75, 41, 58,\n",
       "       48, 82, 82, 50, 30, 61, 32, 80, 32, 82, 65, 53, 86, 57, 72, 26, 25,\n",
       "       61, 25, 68, 78, 61, 18, 75, 28, 56, 62, 63, 70, 51, 71, 69, 54, 30,\n",
       "       69, 47, 27, 55, 77, 61, 69, 70, 49, 54, 85, 62, 41, 29, 35, 70, 85,\n",
       "       80, 23, 39, 79, 52, 32, 22, 81, 26, 61, 74, 29, 31, 81, 54, 85, 89,\n",
       "       64, 32, 19, 24, 45, 62, 25, 69, 59, 57, 51, 84, 26, 28, 39, 89, 42,\n",
       "       87, 51, 42, 46, 18, 25, 42, 85, 83, 35, 52, 86, 55, 42, 83, 26, 43,\n",
       "       24, 20, 52, 34, 35, 48, 19, 88, 85, 63, 22, 24, 33, 84, 66, 60, 42,\n",
       "       80, 26, 84, 60, 36, 55, 39, 22, 49, 71, 31, 53, 65, 81, 20, 84, 24,\n",
       "       77, 51, 36, 43, 87, 53, 50, 40, 69, 81, 52, 72, 86, 86, 77, 75, 71,\n",
       "       56, 37, 22, 78, 23, 21, 75, 36, 65, 57, 79, 85, 61, 85, 29, 74, 67,\n",
       "       75, 70, 34, 80, 57, 24, 57, 83, 74, 83, 54, 53, 38, 63, 71, 48, 51,\n",
       "       54, 77, 84, 70, 51, 40, 66, 48, 28, 27, 32, 67, 43, 53, 27, 54, 33,\n",
       "       80, 50, 80, 58, 49, 33, 30, 81, 22, 87, 78, 59, 59, 79, 48, 25, 65,\n",
       "       84, 72, 50, 32, 48, 76, 23, 38, 68, 80, 40, 72, 25, 74, 51, 31, 23,\n",
       "       23, 39, 73, 20, 30, 53, 45, 50, 47, 30, 35, 64, 23, 77, 69, 89, 83,\n",
       "       82, 19, 25, 78, 62, 84, 60, 21, 34, 65, 23, 18, 26, 74, 36, 47, 71,\n",
       "       69, 74, 80, 19, 33, 27, 75, 30, 31, 69, 60, 89, 55, 68, 50, 49, 64,\n",
       "       24, 27, 31, 66, 54, 86, 21, 39, 30, 74, 35, 65, 46, 56, 56, 89, 53,\n",
       "       65, 55, 69, 86, 25, 30, 67, 77, 83, 48, 73, 34, 38, 40, 28, 79, 28,\n",
       "       51, 61, 89, 82, 31, 82, 51, 48, 75, 28, 54, 52, 75, 22, 18, 79, 88,\n",
       "       23, 35, 55, 42, 24, 30, 18, 86, 43, 21, 53, 79, 53, 39, 78, 41, 75,\n",
       "       32, 82, 34, 49, 43, 76, 25, 18, 54, 80, 87, 66, 49, 20, 25, 32, 24,\n",
       "       69, 77, 52, 33, 41, 89, 49, 45, 21, 39, 34, 84, 87, 39, 63, 73, 46,\n",
       "       57, 65, 83, 81, 67, 65, 21, 25, 21, 66, 39, 54, 28, 83, 58, 58, 26,\n",
       "       58, 38, 25, 51, 72, 34, 66, 19, 77, 29, 29, 68, 81, 73, 74, 47, 80,\n",
       "       70, 89, 53, 29, 31, 30, 41, 62, 73, 86, 69, 63, 89, 18, 63, 70, 65,\n",
       "       45, 24, 34, 60, 38, 35, 63, 54, 76, 58, 33, 78, 45, 42, 63, 39, 21,\n",
       "       26, 35, 33, 26, 49, 38, 82, 89, 25, 50, 58, 88, 32, 62, 65, 76, 44,\n",
       "       19, 48, 69, 47, 31, 89, 32])"
      ]
     },
     "execution_count": 8,
     "metadata": {},
     "output_type": "execute_result"
    }
   ],
   "source": [
    "# Generate the age of 500 people\n",
    "ages = np.random.randint(18, high=90, size=500)\n",
    "ages"
   ]
  },
  {
   "cell_type": "code",
   "execution_count": 11,
   "metadata": {},
   "outputs": [
    {
     "data": {
      "text/plain": [
       "ModeResult(mode=25, count=13)"
      ]
     },
     "execution_count": 11,
     "metadata": {},
     "output_type": "execute_result"
    }
   ],
   "source": [
    "import scipy.stats as stats\n",
    "mode_result = stats.mode(ages)\n",
    "mode_result"
   ]
  },
  {
   "cell_type": "code",
   "execution_count": 10,
   "metadata": {},
   "outputs": [
    {
     "data": {
      "text/plain": [
       "25"
      ]
     },
     "execution_count": 10,
     "metadata": {},
     "output_type": "execute_result"
    }
   ],
   "source": [
    "mode_result.mode"
   ]
  },
  {
   "attachments": {},
   "cell_type": "markdown",
   "metadata": {},
   "source": [
    "Find Mode using numpy"
   ]
  },
  {
   "cell_type": "code",
   "execution_count": 12,
   "metadata": {},
   "outputs": [
    {
     "name": "stdout",
     "output_type": "stream",
     "text": [
      "values: [18 19 20 21 22 23 24 25 26 27 28 29 30 31 32 33 34 35 36 37 38 39 40 41\n",
      " 42 43 44 45 46 47 48 49 50 51 52 53 54 55 56 57 58 59 60 61 62 63 64 65\n",
      " 66 67 68 69 70 71 72 73 74 75 76 77 78 79 80 81 82 83 84 85 86 87 88 89]  counts: [ 8  6  4  8  7  8  9 13 10  5  7  6 11  8 10  7  8  8  5  1  6 10  4  5\n",
      "  7  6  1  5  4  5  9  8  7 10  6 10 11  7  4  7  7  3  5  7  6  8  3 11\n",
      "  7  4  4 12  7  5  6  5  8  9  5  8  7  6 10  7  8  8  8  7  9  5  3 11]\n"
     ]
    }
   ],
   "source": [
    "values, counts = np.unique(ages,return_counts=True)\n",
    "print(f\"values: {values}  counts: {counts}\")"
   ]
  },
  {
   "cell_type": "code",
   "execution_count": 13,
   "metadata": {},
   "outputs": [
    {
     "name": "stdout",
     "output_type": "stream",
     "text": [
      "mode value: 25  mode count: 13\n"
     ]
    }
   ],
   "source": [
    "# find the index of the maximum value in the counts array\n",
    "max_index = np.argmax(counts)\n",
    "\n",
    "# find the value of the corresponding index in the values array\n",
    "mode_value = values[max_index]\n",
    "mode_count = counts[max_index]\n",
    "\n",
    "print(f\"mode value: {mode_value}  mode count: {mode_count}\")"
   ]
  },
  {
   "cell_type": "code",
   "execution_count": null,
   "metadata": {},
   "outputs": [],
   "source": []
  }
 ],
 "metadata": {
  "kernelspec": {
   "display_name": "pandasproj",
   "language": "python",
   "name": "pandasproj"
  },
  "language_info": {
   "codemirror_mode": {
    "name": "ipython",
    "version": 3
   },
   "file_extension": ".py",
   "mimetype": "text/x-python",
   "name": "python",
   "nbconvert_exporter": "python",
   "pygments_lexer": "ipython3",
   "version": "3.12.1"
  },
  "orig_nbformat": 4
 },
 "nbformat": 4,
 "nbformat_minor": 2
}
