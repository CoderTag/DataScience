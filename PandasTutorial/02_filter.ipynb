{
 "cells": [
  {
   "cell_type": "code",
   "execution_count": 29,
   "metadata": {},
   "outputs": [
    {
     "data": {
      "text/html": [
       "<div>\n",
       "<style scoped>\n",
       "    .dataframe tbody tr th:only-of-type {\n",
       "        vertical-align: middle;\n",
       "    }\n",
       "\n",
       "    .dataframe tbody tr th {\n",
       "        vertical-align: top;\n",
       "    }\n",
       "\n",
       "    .dataframe thead th {\n",
       "        text-align: right;\n",
       "    }\n",
       "</style>\n",
       "<table border=\"1\" class=\"dataframe\">\n",
       "  <thead>\n",
       "    <tr style=\"text-align: right;\">\n",
       "      <th></th>\n",
       "      <th>first</th>\n",
       "      <th>last</th>\n",
       "      <th>email</th>\n",
       "    </tr>\n",
       "  </thead>\n",
       "  <tbody>\n",
       "    <tr>\n",
       "      <th>0</th>\n",
       "      <td>Kas</td>\n",
       "      <td>Sar</td>\n",
       "      <td>kar@sar.com</td>\n",
       "    </tr>\n",
       "    <tr>\n",
       "      <th>1</th>\n",
       "      <td>Tas</td>\n",
       "      <td>Kar</td>\n",
       "      <td>tas@kar.com</td>\n",
       "    </tr>\n",
       "    <tr>\n",
       "      <th>2</th>\n",
       "      <td>Bas</td>\n",
       "      <td>Sar</td>\n",
       "      <td>bas@sar.com</td>\n",
       "    </tr>\n",
       "    <tr>\n",
       "      <th>3</th>\n",
       "      <td>Nik</td>\n",
       "      <td>kus</td>\n",
       "      <td>nik@kus.com</td>\n",
       "    </tr>\n",
       "  </tbody>\n",
       "</table>\n",
       "</div>"
      ],
      "text/plain": [
       "  first last        email\n",
       "0   Kas  Sar  kar@sar.com\n",
       "1   Tas  Kar  tas@kar.com\n",
       "2   Bas  Sar  bas@sar.com\n",
       "3   Nik  kus  nik@kus.com"
      ]
     },
     "execution_count": 29,
     "metadata": {},
     "output_type": "execute_result"
    }
   ],
   "source": [
    "import pandas as pd\n",
    "\n",
    "people = {\n",
    "    \"first\" : ['Kas', 'Tas', 'Bas','Nik'],\n",
    "    \"last\" : ['Sar', 'Kar', 'Sar','kus'],\n",
    "    \"email\" : ['kar@sar.com', 'tas@kar.com', 'bas@sar.com', 'nik@kus.com']\n",
    "}\n",
    "\n",
    "df = pd.DataFrame(people)\n",
    "df"
   ]
  },
  {
   "cell_type": "code",
   "execution_count": 30,
   "metadata": {},
   "outputs": [
    {
     "data": {
      "text/plain": [
       "0    Sar\n",
       "1    Kar\n",
       "2    Sar\n",
       "3    kus\n",
       "Name: last, dtype: object"
      ]
     },
     "execution_count": 30,
     "metadata": {},
     "output_type": "execute_result"
    }
   ],
   "source": [
    "df['last']"
   ]
  },
  {
   "cell_type": "code",
   "execution_count": 31,
   "metadata": {},
   "outputs": [
    {
     "data": {
      "text/plain": [
       "0     True\n",
       "1    False\n",
       "2     True\n",
       "3    False\n",
       "Name: last, dtype: bool"
      ]
     },
     "execution_count": 31,
     "metadata": {},
     "output_type": "execute_result"
    }
   ],
   "source": [
    "# filter by surname\n",
    "df['last']==\"Sar\""
   ]
  },
  {
   "cell_type": "code",
   "execution_count": 32,
   "metadata": {},
   "outputs": [
    {
     "data": {
      "text/html": [
       "<div>\n",
       "<style scoped>\n",
       "    .dataframe tbody tr th:only-of-type {\n",
       "        vertical-align: middle;\n",
       "    }\n",
       "\n",
       "    .dataframe tbody tr th {\n",
       "        vertical-align: top;\n",
       "    }\n",
       "\n",
       "    .dataframe thead th {\n",
       "        text-align: right;\n",
       "    }\n",
       "</style>\n",
       "<table border=\"1\" class=\"dataframe\">\n",
       "  <thead>\n",
       "    <tr style=\"text-align: right;\">\n",
       "      <th></th>\n",
       "      <th>first</th>\n",
       "      <th>last</th>\n",
       "      <th>email</th>\n",
       "    </tr>\n",
       "  </thead>\n",
       "  <tbody>\n",
       "    <tr>\n",
       "      <th>0</th>\n",
       "      <td>Kas</td>\n",
       "      <td>Sar</td>\n",
       "      <td>kar@sar.com</td>\n",
       "    </tr>\n",
       "    <tr>\n",
       "      <th>2</th>\n",
       "      <td>Bas</td>\n",
       "      <td>Sar</td>\n",
       "      <td>bas@sar.com</td>\n",
       "    </tr>\n",
       "  </tbody>\n",
       "</table>\n",
       "</div>"
      ],
      "text/plain": [
       "  first last        email\n",
       "0   Kas  Sar  kar@sar.com\n",
       "2   Bas  Sar  bas@sar.com"
      ]
     },
     "execution_count": 32,
     "metadata": {},
     "output_type": "execute_result"
    }
   ],
   "source": [
    "# now assign the above filter to a data frame. So that it display all rows which match the filter\n",
    "filt = (df['last'] == 'Sar')\n",
    "df[filt]"
   ]
  },
  {
   "cell_type": "code",
   "execution_count": 33,
   "metadata": {},
   "outputs": [
    {
     "data": {
      "text/html": [
       "<div>\n",
       "<style scoped>\n",
       "    .dataframe tbody tr th:only-of-type {\n",
       "        vertical-align: middle;\n",
       "    }\n",
       "\n",
       "    .dataframe tbody tr th {\n",
       "        vertical-align: top;\n",
       "    }\n",
       "\n",
       "    .dataframe thead th {\n",
       "        text-align: right;\n",
       "    }\n",
       "</style>\n",
       "<table border=\"1\" class=\"dataframe\">\n",
       "  <thead>\n",
       "    <tr style=\"text-align: right;\">\n",
       "      <th></th>\n",
       "      <th>first</th>\n",
       "      <th>last</th>\n",
       "      <th>email</th>\n",
       "    </tr>\n",
       "  </thead>\n",
       "  <tbody>\n",
       "    <tr>\n",
       "      <th>0</th>\n",
       "      <td>Kas</td>\n",
       "      <td>Sar</td>\n",
       "      <td>kar@sar.com</td>\n",
       "    </tr>\n",
       "    <tr>\n",
       "      <th>2</th>\n",
       "      <td>Bas</td>\n",
       "      <td>Sar</td>\n",
       "      <td>bas@sar.com</td>\n",
       "    </tr>\n",
       "  </tbody>\n",
       "</table>\n",
       "</div>"
      ],
      "text/plain": [
       "  first last        email\n",
       "0   Kas  Sar  kar@sar.com\n",
       "2   Bas  Sar  bas@sar.com"
      ]
     },
     "execution_count": 33,
     "metadata": {},
     "output_type": "execute_result"
    }
   ],
   "source": [
    "# same we can achieve using loc\n",
    "df.loc[filt]"
   ]
  },
  {
   "cell_type": "code",
   "execution_count": 34,
   "metadata": {},
   "outputs": [
    {
     "data": {
      "text/html": [
       "<div>\n",
       "<style scoped>\n",
       "    .dataframe tbody tr th:only-of-type {\n",
       "        vertical-align: middle;\n",
       "    }\n",
       "\n",
       "    .dataframe tbody tr th {\n",
       "        vertical-align: top;\n",
       "    }\n",
       "\n",
       "    .dataframe thead th {\n",
       "        text-align: right;\n",
       "    }\n",
       "</style>\n",
       "<table border=\"1\" class=\"dataframe\">\n",
       "  <thead>\n",
       "    <tr style=\"text-align: right;\">\n",
       "      <th></th>\n",
       "      <th>email</th>\n",
       "    </tr>\n",
       "  </thead>\n",
       "  <tbody>\n",
       "    <tr>\n",
       "      <th>0</th>\n",
       "      <td>kar@sar.com</td>\n",
       "    </tr>\n",
       "    <tr>\n",
       "      <th>2</th>\n",
       "      <td>bas@sar.com</td>\n",
       "    </tr>\n",
       "  </tbody>\n",
       "</table>\n",
       "</div>"
      ],
      "text/plain": [
       "         email\n",
       "0  kar@sar.com\n",
       "2  bas@sar.com"
      ]
     },
     "execution_count": 34,
     "metadata": {},
     "output_type": "execute_result"
    }
   ],
   "source": [
    "df.loc[filt,['email']]"
   ]
  },
  {
   "cell_type": "code",
   "execution_count": 35,
   "metadata": {},
   "outputs": [
    {
     "data": {
      "text/html": [
       "<div>\n",
       "<style scoped>\n",
       "    .dataframe tbody tr th:only-of-type {\n",
       "        vertical-align: middle;\n",
       "    }\n",
       "\n",
       "    .dataframe tbody tr th {\n",
       "        vertical-align: top;\n",
       "    }\n",
       "\n",
       "    .dataframe thead th {\n",
       "        text-align: right;\n",
       "    }\n",
       "</style>\n",
       "<table border=\"1\" class=\"dataframe\">\n",
       "  <thead>\n",
       "    <tr style=\"text-align: right;\">\n",
       "      <th></th>\n",
       "      <th>email</th>\n",
       "    </tr>\n",
       "  </thead>\n",
       "  <tbody>\n",
       "    <tr>\n",
       "      <th>0</th>\n",
       "      <td>kar@sar.com</td>\n",
       "    </tr>\n",
       "  </tbody>\n",
       "</table>\n",
       "</div>"
      ],
      "text/plain": [
       "         email\n",
       "0  kar@sar.com"
      ]
     },
     "execution_count": 35,
     "metadata": {},
     "output_type": "execute_result"
    }
   ],
   "source": [
    "# And and or operation\n",
    "filt = (df['last'] == 'Sar') & (df['first'] == 'Kas')\n",
    "df.loc[filt,['email']]"
   ]
  },
  {
   "cell_type": "code",
   "execution_count": 36,
   "metadata": {},
   "outputs": [
    {
     "data": {
      "text/html": [
       "<div>\n",
       "<style scoped>\n",
       "    .dataframe tbody tr th:only-of-type {\n",
       "        vertical-align: middle;\n",
       "    }\n",
       "\n",
       "    .dataframe tbody tr th {\n",
       "        vertical-align: top;\n",
       "    }\n",
       "\n",
       "    .dataframe thead th {\n",
       "        text-align: right;\n",
       "    }\n",
       "</style>\n",
       "<table border=\"1\" class=\"dataframe\">\n",
       "  <thead>\n",
       "    <tr style=\"text-align: right;\">\n",
       "      <th></th>\n",
       "      <th>email</th>\n",
       "    </tr>\n",
       "  </thead>\n",
       "  <tbody>\n",
       "    <tr>\n",
       "      <th>1</th>\n",
       "      <td>tas@kar.com</td>\n",
       "    </tr>\n",
       "    <tr>\n",
       "      <th>2</th>\n",
       "      <td>bas@sar.com</td>\n",
       "    </tr>\n",
       "    <tr>\n",
       "      <th>3</th>\n",
       "      <td>nik@kus.com</td>\n",
       "    </tr>\n",
       "  </tbody>\n",
       "</table>\n",
       "</div>"
      ],
      "text/plain": [
       "         email\n",
       "1  tas@kar.com\n",
       "2  bas@sar.com\n",
       "3  nik@kus.com"
      ]
     },
     "execution_count": 36,
     "metadata": {},
     "output_type": "execute_result"
    }
   ],
   "source": [
    "# show everything that does not match the filter\n",
    "df.loc[~filt, ['email']]"
   ]
  },
  {
   "cell_type": "code",
   "execution_count": 37,
   "metadata": {},
   "outputs": [
    {
     "data": {
      "text/html": [
       "<div>\n",
       "<style scoped>\n",
       "    .dataframe tbody tr th:only-of-type {\n",
       "        vertical-align: middle;\n",
       "    }\n",
       "\n",
       "    .dataframe tbody tr th {\n",
       "        vertical-align: top;\n",
       "    }\n",
       "\n",
       "    .dataframe thead th {\n",
       "        text-align: right;\n",
       "    }\n",
       "</style>\n",
       "<table border=\"1\" class=\"dataframe\">\n",
       "  <thead>\n",
       "    <tr style=\"text-align: right;\">\n",
       "      <th></th>\n",
       "      <th>Country</th>\n",
       "      <th>LanguageWorkedWith</th>\n",
       "      <th>ConvertedComp</th>\n",
       "    </tr>\n",
       "  </thead>\n",
       "  <tbody>\n",
       "    <tr>\n",
       "      <th>5</th>\n",
       "      <td>Canada</td>\n",
       "      <td>Java;R;SQL</td>\n",
       "      <td>366420.0</td>\n",
       "    </tr>\n",
       "    <tr>\n",
       "      <th>8</th>\n",
       "      <td>New Zealand</td>\n",
       "      <td>Bash/Shell/PowerShell;C#;HTML/CSS;JavaScript;P...</td>\n",
       "      <td>95179.0</td>\n",
       "    </tr>\n",
       "    <tr>\n",
       "      <th>12</th>\n",
       "      <td>United States</td>\n",
       "      <td>Bash/Shell/PowerShell;HTML/CSS;JavaScript;PHP;...</td>\n",
       "      <td>90000.0</td>\n",
       "    </tr>\n",
       "    <tr>\n",
       "      <th>15</th>\n",
       "      <td>United Kingdom</td>\n",
       "      <td>Bash/Shell/PowerShell;C#;HTML/CSS;JavaScript;T...</td>\n",
       "      <td>455352.0</td>\n",
       "    </tr>\n",
       "    <tr>\n",
       "      <th>21</th>\n",
       "      <td>United States</td>\n",
       "      <td>Bash/Shell/PowerShell;C++;HTML/CSS;JavaScript;...</td>\n",
       "      <td>103000.0</td>\n",
       "    </tr>\n",
       "    <tr>\n",
       "      <th>...</th>\n",
       "      <td>...</td>\n",
       "      <td>...</td>\n",
       "      <td>...</td>\n",
       "    </tr>\n",
       "    <tr>\n",
       "      <th>88323</th>\n",
       "      <td>United States</td>\n",
       "      <td>Bash/Shell/PowerShell;C#;HTML/CSS;Java;Python;...</td>\n",
       "      <td>180000.0</td>\n",
       "    </tr>\n",
       "    <tr>\n",
       "      <th>88324</th>\n",
       "      <td>United States</td>\n",
       "      <td>Bash/Shell/PowerShell;C;Clojure;HTML/CSS;Java;...</td>\n",
       "      <td>2000000.0</td>\n",
       "    </tr>\n",
       "    <tr>\n",
       "      <th>88325</th>\n",
       "      <td>United States</td>\n",
       "      <td>HTML/CSS;JavaScript;Scala;TypeScript</td>\n",
       "      <td>130000.0</td>\n",
       "    </tr>\n",
       "    <tr>\n",
       "      <th>88326</th>\n",
       "      <td>Finland</td>\n",
       "      <td>Bash/Shell/PowerShell;C++;Python</td>\n",
       "      <td>82488.0</td>\n",
       "    </tr>\n",
       "    <tr>\n",
       "      <th>88329</th>\n",
       "      <td>Netherlands</td>\n",
       "      <td>C#;HTML/CSS;Java;JavaScript;PHP;Python</td>\n",
       "      <td>588012.0</td>\n",
       "    </tr>\n",
       "  </tbody>\n",
       "</table>\n",
       "<p>22289 rows × 3 columns</p>\n",
       "</div>"
      ],
      "text/plain": [
       "              Country                                 LanguageWorkedWith  \\\n",
       "5              Canada                                         Java;R;SQL   \n",
       "8         New Zealand  Bash/Shell/PowerShell;C#;HTML/CSS;JavaScript;P...   \n",
       "12      United States  Bash/Shell/PowerShell;HTML/CSS;JavaScript;PHP;...   \n",
       "15     United Kingdom  Bash/Shell/PowerShell;C#;HTML/CSS;JavaScript;T...   \n",
       "21      United States  Bash/Shell/PowerShell;C++;HTML/CSS;JavaScript;...   \n",
       "...               ...                                                ...   \n",
       "88323   United States  Bash/Shell/PowerShell;C#;HTML/CSS;Java;Python;...   \n",
       "88324   United States  Bash/Shell/PowerShell;C;Clojure;HTML/CSS;Java;...   \n",
       "88325   United States               HTML/CSS;JavaScript;Scala;TypeScript   \n",
       "88326         Finland                   Bash/Shell/PowerShell;C++;Python   \n",
       "88329     Netherlands             C#;HTML/CSS;Java;JavaScript;PHP;Python   \n",
       "\n",
       "       ConvertedComp  \n",
       "5           366420.0  \n",
       "8            95179.0  \n",
       "12           90000.0  \n",
       "15          455352.0  \n",
       "21          103000.0  \n",
       "...              ...  \n",
       "88323       180000.0  \n",
       "88324      2000000.0  \n",
       "88325       130000.0  \n",
       "88326        82488.0  \n",
       "88329       588012.0  \n",
       "\n",
       "[22289 rows x 3 columns]"
      ]
     },
     "execution_count": 37,
     "metadata": {},
     "output_type": "execute_result"
    }
   ],
   "source": [
    "df = pd.read_csv(\"data/survey_results_public.csv\")\n",
    "schema_df = pd.read_csv('data/survey_results_schema.csv')\n",
    "\n",
    "pd.set_option('display.max_column',85)\n",
    "pd.set_option('display.max_rows',85)\n",
    "\n",
    "high_salary = (df['ConvertedComp'] > 70000)\n",
    "df.loc[high_salary,['Country', 'LanguageWorkedWith', 'ConvertedComp']]"
   ]
  },
  {
   "cell_type": "code",
   "execution_count": 38,
   "metadata": {},
   "outputs": [
    {
     "data": {
      "text/html": [
       "<div>\n",
       "<style scoped>\n",
       "    .dataframe tbody tr th:only-of-type {\n",
       "        vertical-align: middle;\n",
       "    }\n",
       "\n",
       "    .dataframe tbody tr th {\n",
       "        vertical-align: top;\n",
       "    }\n",
       "\n",
       "    .dataframe thead th {\n",
       "        text-align: right;\n",
       "    }\n",
       "</style>\n",
       "<table border=\"1\" class=\"dataframe\">\n",
       "  <thead>\n",
       "    <tr style=\"text-align: right;\">\n",
       "      <th></th>\n",
       "      <th>Country</th>\n",
       "    </tr>\n",
       "  </thead>\n",
       "  <tbody>\n",
       "    <tr>\n",
       "      <th>0</th>\n",
       "      <td>United Kingdom</td>\n",
       "    </tr>\n",
       "    <tr>\n",
       "      <th>3</th>\n",
       "      <td>United States</td>\n",
       "    </tr>\n",
       "    <tr>\n",
       "      <th>7</th>\n",
       "      <td>India</td>\n",
       "    </tr>\n",
       "    <tr>\n",
       "      <th>9</th>\n",
       "      <td>India</td>\n",
       "    </tr>\n",
       "    <tr>\n",
       "      <th>12</th>\n",
       "      <td>United States</td>\n",
       "    </tr>\n",
       "    <tr>\n",
       "      <th>...</th>\n",
       "      <td>...</td>\n",
       "    </tr>\n",
       "    <tr>\n",
       "      <th>88854</th>\n",
       "      <td>United Kingdom</td>\n",
       "    </tr>\n",
       "    <tr>\n",
       "      <th>88859</th>\n",
       "      <td>United States</td>\n",
       "    </tr>\n",
       "    <tr>\n",
       "      <th>88863</th>\n",
       "      <td>United Kingdom</td>\n",
       "    </tr>\n",
       "    <tr>\n",
       "      <th>88864</th>\n",
       "      <td>India</td>\n",
       "    </tr>\n",
       "    <tr>\n",
       "      <th>88877</th>\n",
       "      <td>United States</td>\n",
       "    </tr>\n",
       "  </tbody>\n",
       "</table>\n",
       "<p>35747 rows × 1 columns</p>\n",
       "</div>"
      ],
      "text/plain": [
       "              Country\n",
       "0      United Kingdom\n",
       "3       United States\n",
       "7               India\n",
       "9               India\n",
       "12      United States\n",
       "...               ...\n",
       "88854  United Kingdom\n",
       "88859   United States\n",
       "88863  United Kingdom\n",
       "88864           India\n",
       "88877   United States\n",
       "\n",
       "[35747 rows x 1 columns]"
      ]
     },
     "execution_count": 38,
     "metadata": {},
     "output_type": "execute_result"
    }
   ],
   "source": [
    "# Filter by countries\n",
    "countries = ['United States', 'India', 'United Kingdom']\n",
    "filt = df['Country'].isin(countries)\n",
    "df.loc[filt,['Country']]"
   ]
  },
  {
   "cell_type": "code",
   "execution_count": 39,
   "metadata": {},
   "outputs": [
    {
     "data": {
      "text/plain": [
       "0                          HTML/CSS;Java;JavaScript;Python\n",
       "1                                      C++;HTML/CSS;Python\n",
       "2                                                 HTML/CSS\n",
       "3                                      C;C++;C#;Python;SQL\n",
       "4              C++;HTML/CSS;Java;JavaScript;Python;SQL;VBA\n",
       "                               ...                        \n",
       "88878                        HTML/CSS;JavaScript;Other(s):\n",
       "88879                                                  NaN\n",
       "88880                                                  NaN\n",
       "88881                                                  NaN\n",
       "88882    Bash/Shell/PowerShell;HTML/CSS;Java;JavaScript...\n",
       "Name: LanguageWorkedWith, Length: 88883, dtype: object"
      ]
     },
     "execution_count": 39,
     "metadata": {},
     "output_type": "execute_result"
    }
   ],
   "source": [
    "df['LanguageWorkedWith']"
   ]
  },
  {
   "cell_type": "code",
   "execution_count": 40,
   "metadata": {},
   "outputs": [
    {
     "data": {
      "text/html": [
       "<div>\n",
       "<style scoped>\n",
       "    .dataframe tbody tr th:only-of-type {\n",
       "        vertical-align: middle;\n",
       "    }\n",
       "\n",
       "    .dataframe tbody tr th {\n",
       "        vertical-align: top;\n",
       "    }\n",
       "\n",
       "    .dataframe thead th {\n",
       "        text-align: right;\n",
       "    }\n",
       "</style>\n",
       "<table border=\"1\" class=\"dataframe\">\n",
       "  <thead>\n",
       "    <tr style=\"text-align: right;\">\n",
       "      <th></th>\n",
       "      <th>LanguageWorkedWith</th>\n",
       "    </tr>\n",
       "  </thead>\n",
       "  <tbody>\n",
       "    <tr>\n",
       "      <th>0</th>\n",
       "      <td>HTML/CSS;Java;JavaScript;Python</td>\n",
       "    </tr>\n",
       "    <tr>\n",
       "      <th>1</th>\n",
       "      <td>C++;HTML/CSS;Python</td>\n",
       "    </tr>\n",
       "    <tr>\n",
       "      <th>3</th>\n",
       "      <td>C;C++;C#;Python;SQL</td>\n",
       "    </tr>\n",
       "    <tr>\n",
       "      <th>4</th>\n",
       "      <td>C++;HTML/CSS;Java;JavaScript;Python;SQL;VBA</td>\n",
       "    </tr>\n",
       "    <tr>\n",
       "      <th>7</th>\n",
       "      <td>Bash/Shell/PowerShell;C;C++;HTML/CSS;Java;Java...</td>\n",
       "    </tr>\n",
       "    <tr>\n",
       "      <th>...</th>\n",
       "      <td>...</td>\n",
       "    </tr>\n",
       "    <tr>\n",
       "      <th>88854</th>\n",
       "      <td>Bash/Shell/PowerShell;C;C++;HTML/CSS;Java;Java...</td>\n",
       "    </tr>\n",
       "    <tr>\n",
       "      <th>88860</th>\n",
       "      <td>Bash/Shell/PowerShell;C++;Python;Ruby;Other(s):</td>\n",
       "    </tr>\n",
       "    <tr>\n",
       "      <th>88865</th>\n",
       "      <td>Bash/Shell/PowerShell;HTML/CSS;Python;Other(s):</td>\n",
       "    </tr>\n",
       "    <tr>\n",
       "      <th>88872</th>\n",
       "      <td>C;C++;HTML/CSS;JavaScript;PHP;Python;SQL</td>\n",
       "    </tr>\n",
       "    <tr>\n",
       "      <th>88876</th>\n",
       "      <td>HTML/CSS;JavaScript;Python</td>\n",
       "    </tr>\n",
       "  </tbody>\n",
       "</table>\n",
       "<p>36443 rows × 1 columns</p>\n",
       "</div>"
      ],
      "text/plain": [
       "                                      LanguageWorkedWith\n",
       "0                        HTML/CSS;Java;JavaScript;Python\n",
       "1                                    C++;HTML/CSS;Python\n",
       "3                                    C;C++;C#;Python;SQL\n",
       "4            C++;HTML/CSS;Java;JavaScript;Python;SQL;VBA\n",
       "7      Bash/Shell/PowerShell;C;C++;HTML/CSS;Java;Java...\n",
       "...                                                  ...\n",
       "88854  Bash/Shell/PowerShell;C;C++;HTML/CSS;Java;Java...\n",
       "88860    Bash/Shell/PowerShell;C++;Python;Ruby;Other(s):\n",
       "88865    Bash/Shell/PowerShell;HTML/CSS;Python;Other(s):\n",
       "88872           C;C++;HTML/CSS;JavaScript;PHP;Python;SQL\n",
       "88876                         HTML/CSS;JavaScript;Python\n",
       "\n",
       "[36443 rows x 1 columns]"
      ]
     },
     "execution_count": 40,
     "metadata": {},
     "output_type": "execute_result"
    }
   ],
   "source": [
    "# str method is very useful method in such filtering\n",
    "filt = df['LanguageWorkedWith'].str.contains('Python', na=False)\n",
    "df.loc[filt,['LanguageWorkedWith']]"
   ]
  },
  {
   "attachments": {},
   "cell_type": "markdown",
   "metadata": {},
   "source": [
    "### Conditional Selection"
   ]
  },
  {
   "cell_type": "code",
   "execution_count": 41,
   "metadata": {},
   "outputs": [
    {
     "data": {
      "text/html": [
       "<div>\n",
       "<style scoped>\n",
       "    .dataframe tbody tr th:only-of-type {\n",
       "        vertical-align: middle;\n",
       "    }\n",
       "\n",
       "    .dataframe tbody tr th {\n",
       "        vertical-align: top;\n",
       "    }\n",
       "\n",
       "    .dataframe thead th {\n",
       "        text-align: right;\n",
       "    }\n",
       "</style>\n",
       "<table border=\"1\" class=\"dataframe\">\n",
       "  <thead>\n",
       "    <tr style=\"text-align: right;\">\n",
       "      <th></th>\n",
       "      <th>W</th>\n",
       "      <th>X</th>\n",
       "      <th>Y</th>\n",
       "      <th>Z</th>\n",
       "    </tr>\n",
       "  </thead>\n",
       "  <tbody>\n",
       "    <tr>\n",
       "      <th>A</th>\n",
       "      <td>-1.774382</td>\n",
       "      <td>-0.073591</td>\n",
       "      <td>0.518919</td>\n",
       "      <td>0.511203</td>\n",
       "    </tr>\n",
       "    <tr>\n",
       "      <th>B</th>\n",
       "      <td>0.310466</td>\n",
       "      <td>-1.018893</td>\n",
       "      <td>0.809089</td>\n",
       "      <td>-0.846339</td>\n",
       "    </tr>\n",
       "    <tr>\n",
       "      <th>C</th>\n",
       "      <td>0.385816</td>\n",
       "      <td>1.435335</td>\n",
       "      <td>-0.008225</td>\n",
       "      <td>-0.474107</td>\n",
       "    </tr>\n",
       "    <tr>\n",
       "      <th>D</th>\n",
       "      <td>0.507446</td>\n",
       "      <td>1.185314</td>\n",
       "      <td>-0.037311</td>\n",
       "      <td>-1.459043</td>\n",
       "    </tr>\n",
       "    <tr>\n",
       "      <th>E</th>\n",
       "      <td>1.448401</td>\n",
       "      <td>1.856371</td>\n",
       "      <td>0.345891</td>\n",
       "      <td>0.179669</td>\n",
       "    </tr>\n",
       "  </tbody>\n",
       "</table>\n",
       "</div>"
      ],
      "text/plain": [
       "          W         X         Y         Z\n",
       "A -1.774382 -0.073591  0.518919  0.511203\n",
       "B  0.310466 -1.018893  0.809089 -0.846339\n",
       "C  0.385816  1.435335 -0.008225 -0.474107\n",
       "D  0.507446  1.185314 -0.037311 -1.459043\n",
       "E  1.448401  1.856371  0.345891  0.179669"
      ]
     },
     "execution_count": 41,
     "metadata": {},
     "output_type": "execute_result"
    }
   ],
   "source": [
    "import numpy as np\n",
    "import string\n",
    "\n",
    "new_index = list(string.ascii_uppercase)[0:5]\n",
    "new_column = list(string.ascii_uppercase)[-4:]\n",
    "\n",
    "df2 = pd.DataFrame(np.random.randn(5,4),new_index,new_column)\n",
    "df2"
   ]
  },
  {
   "cell_type": "code",
   "execution_count": 42,
   "metadata": {},
   "outputs": [
    {
     "data": {
      "text/html": [
       "<div>\n",
       "<style scoped>\n",
       "    .dataframe tbody tr th:only-of-type {\n",
       "        vertical-align: middle;\n",
       "    }\n",
       "\n",
       "    .dataframe tbody tr th {\n",
       "        vertical-align: top;\n",
       "    }\n",
       "\n",
       "    .dataframe thead th {\n",
       "        text-align: right;\n",
       "    }\n",
       "</style>\n",
       "<table border=\"1\" class=\"dataframe\">\n",
       "  <thead>\n",
       "    <tr style=\"text-align: right;\">\n",
       "      <th></th>\n",
       "      <th>W</th>\n",
       "      <th>X</th>\n",
       "      <th>Y</th>\n",
       "      <th>Z</th>\n",
       "    </tr>\n",
       "  </thead>\n",
       "  <tbody>\n",
       "    <tr>\n",
       "      <th>A</th>\n",
       "      <td>NaN</td>\n",
       "      <td>NaN</td>\n",
       "      <td>0.518919</td>\n",
       "      <td>0.511203</td>\n",
       "    </tr>\n",
       "    <tr>\n",
       "      <th>B</th>\n",
       "      <td>0.310466</td>\n",
       "      <td>NaN</td>\n",
       "      <td>0.809089</td>\n",
       "      <td>NaN</td>\n",
       "    </tr>\n",
       "    <tr>\n",
       "      <th>C</th>\n",
       "      <td>0.385816</td>\n",
       "      <td>1.435335</td>\n",
       "      <td>NaN</td>\n",
       "      <td>NaN</td>\n",
       "    </tr>\n",
       "    <tr>\n",
       "      <th>D</th>\n",
       "      <td>0.507446</td>\n",
       "      <td>1.185314</td>\n",
       "      <td>NaN</td>\n",
       "      <td>NaN</td>\n",
       "    </tr>\n",
       "    <tr>\n",
       "      <th>E</th>\n",
       "      <td>1.448401</td>\n",
       "      <td>1.856371</td>\n",
       "      <td>0.345891</td>\n",
       "      <td>0.179669</td>\n",
       "    </tr>\n",
       "  </tbody>\n",
       "</table>\n",
       "</div>"
      ],
      "text/plain": [
       "          W         X         Y         Z\n",
       "A       NaN       NaN  0.518919  0.511203\n",
       "B  0.310466       NaN  0.809089       NaN\n",
       "C  0.385816  1.435335       NaN       NaN\n",
       "D  0.507446  1.185314       NaN       NaN\n",
       "E  1.448401  1.856371  0.345891  0.179669"
      ]
     },
     "execution_count": 42,
     "metadata": {},
     "output_type": "execute_result"
    }
   ],
   "source": [
    "df2[df2>0]"
   ]
  },
  {
   "cell_type": "code",
   "execution_count": 43,
   "metadata": {},
   "outputs": [
    {
     "data": {
      "text/html": [
       "<div>\n",
       "<style scoped>\n",
       "    .dataframe tbody tr th:only-of-type {\n",
       "        vertical-align: middle;\n",
       "    }\n",
       "\n",
       "    .dataframe tbody tr th {\n",
       "        vertical-align: top;\n",
       "    }\n",
       "\n",
       "    .dataframe thead th {\n",
       "        text-align: right;\n",
       "    }\n",
       "</style>\n",
       "<table border=\"1\" class=\"dataframe\">\n",
       "  <thead>\n",
       "    <tr style=\"text-align: right;\">\n",
       "      <th></th>\n",
       "      <th>W</th>\n",
       "      <th>X</th>\n",
       "      <th>Y</th>\n",
       "      <th>Z</th>\n",
       "    </tr>\n",
       "  </thead>\n",
       "  <tbody>\n",
       "    <tr>\n",
       "      <th>B</th>\n",
       "      <td>0.310466</td>\n",
       "      <td>-1.018893</td>\n",
       "      <td>0.809089</td>\n",
       "      <td>-0.846339</td>\n",
       "    </tr>\n",
       "    <tr>\n",
       "      <th>E</th>\n",
       "      <td>1.448401</td>\n",
       "      <td>1.856371</td>\n",
       "      <td>0.345891</td>\n",
       "      <td>0.179669</td>\n",
       "    </tr>\n",
       "  </tbody>\n",
       "</table>\n",
       "</div>"
      ],
      "text/plain": [
       "          W         X         Y         Z\n",
       "B  0.310466 -1.018893  0.809089 -0.846339\n",
       "E  1.448401  1.856371  0.345891  0.179669"
      ]
     },
     "execution_count": 43,
     "metadata": {},
     "output_type": "execute_result"
    }
   ],
   "source": [
    "# In the above approach we will get columns with NaN. If we want table without NaN\n",
    "df2[(df2['W']>0) & (df2['Y']>0)]"
   ]
  },
  {
   "cell_type": "code",
   "execution_count": 46,
   "metadata": {},
   "outputs": [
    {
     "data": {
      "text/html": [
       "<div>\n",
       "<style scoped>\n",
       "    .dataframe tbody tr th:only-of-type {\n",
       "        vertical-align: middle;\n",
       "    }\n",
       "\n",
       "    .dataframe tbody tr th {\n",
       "        vertical-align: top;\n",
       "    }\n",
       "\n",
       "    .dataframe thead th {\n",
       "        text-align: right;\n",
       "    }\n",
       "</style>\n",
       "<table border=\"1\" class=\"dataframe\">\n",
       "  <thead>\n",
       "    <tr style=\"text-align: right;\">\n",
       "      <th></th>\n",
       "      <th>X</th>\n",
       "      <th>Z</th>\n",
       "    </tr>\n",
       "  </thead>\n",
       "  <tbody>\n",
       "    <tr>\n",
       "      <th>B</th>\n",
       "      <td>-1.018893</td>\n",
       "      <td>-0.846339</td>\n",
       "    </tr>\n",
       "    <tr>\n",
       "      <th>E</th>\n",
       "      <td>1.856371</td>\n",
       "      <td>0.179669</td>\n",
       "    </tr>\n",
       "  </tbody>\n",
       "</table>\n",
       "</div>"
      ],
      "text/plain": [
       "          X         Z\n",
       "B -1.018893 -0.846339\n",
       "E  1.856371  0.179669"
      ]
     },
     "execution_count": 46,
     "metadata": {},
     "output_type": "execute_result"
    }
   ],
   "source": [
    "# After segregating where the columns 'W' and 'Y' more than 0. Get the series in X & Z\n",
    "df2[(df2['W']>0) & (df2['Y']>0)][['X','Z']]\n"
   ]
  },
  {
   "cell_type": "code",
   "execution_count": null,
   "metadata": {},
   "outputs": [],
   "source": []
  }
 ],
 "metadata": {
  "kernelspec": {
   "display_name": "pandasproj",
   "language": "python",
   "name": "pandasproj"
  },
  "language_info": {
   "codemirror_mode": {
    "name": "ipython",
    "version": 3
   },
   "file_extension": ".py",
   "mimetype": "text/x-python",
   "name": "python",
   "nbconvert_exporter": "python",
   "pygments_lexer": "ipython3",
   "version": "3.12.1"
  },
  "orig_nbformat": 4
 },
 "nbformat": 4,
 "nbformat_minor": 2
}
